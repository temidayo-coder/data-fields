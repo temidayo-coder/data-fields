{
 "cells": [
  {
   "cell_type": "code",
   "execution_count": 1,
   "metadata": {},
   "outputs": [
    {
     "data": {
      "text/html": [
       "<style type=\"text/css\">\n",
       "  span.ecb { background: yellow; }\n",
       "</style>\n"
      ],
      "text/plain": [
       "<IPython.core.display.HTML object>"
      ]
     },
     "metadata": {},
     "output_type": "display_data"
    }
   ],
   "source": [
    "%%html\n",
    "<style type=\"text/css\">\n",
    "  span.ecb { background: yellow; }\n",
    "</style>"
   ]
  },
  {
   "cell_type": "markdown",
   "metadata": {},
   "source": [
    "<span class=\"ecb\">Comments by ECB</span>"
   ]
  },
  {
   "cell_type": "markdown",
   "metadata": {
    "tags": []
   },
   "source": [
    "# ATMO 5331 - Homework 2 - Fall 2023\n",
    "## Due 24 Sep, 2023 (Sunday, 11:59 pm)\n",
    "\n",
    "When doing this homework, remember that you have three jobs:\n",
    "1. Make it work and get the right answer.\n",
    "2. Clean it up so that I can understand what you've done. If you think I might not undersand, document it with a comment or a function docstring.\n",
    "3. Practice _generalizing_ your thinking: write code that is tolerant of changes to the specifics of a problem, but not the structure of the problem.\n",
    "\n",
    "You should present your work with a clear logical progression. If that seems like a hassle, remember that in doing so you are practicing skills that are expected in your thesis and journal publications.\n",
    "\n",
    "You may work alone or in pairs. I will not be adjudicating relative level of effort in group work, so you are responsible for ensuring there is an even contribution by your partner."
   ]
  },
  {
   "cell_type": "markdown",
   "metadata": {},
   "source": [
    "**Question 1**\n",
    "\n",
    "Grab the [WGS84 implementation manual](https://www.icao.int/safety/pbn/documentation/eurocontrol/eurocontrol%20wgs%2084%20implementation%20manual.pdf), and implement a translation from geodetic latitude, longitude, and altitude (referenced to the WGS84 ellipsoid) to the local XYZ cartesian system used for WGS84.\n",
    "\n",
    "Use part 1 of Helmert's formula on p. 81 (Appendix E), and refer to Fig. B-6 in Appendix B (p. 70) for information about the coordinate system notation.\n",
    "\n",
    "Careful with degrees and radians.\n",
    "\n",
    "Compare your results to what you get when using the `proj4` library. This library has its origins in public domain code written by the USGS, and is used in many open source packages, including the QGIS system. For easy use of the `proj4` library, we will use the helper routines in `coords.py`. I use these same helpers all the time in practice, and this code is running in operations in NOAA.\n",
    "\n",
    "You set up a coordinate system transform object as shown below. It defaults to a WGS84 ellipsoid, so we don't have to specify that. Once the coordinate system object `geo` has been created, you can reuse it withouth calling `GeographicSystem()` again. It accepts arrays of data.\n",
    "```\n",
    "from coords import GeographicSystem \n",
    "geo = GeographicSystem() \n",
    "X, Y, Z = geo.toECEF(lon, lat, alt) # Use degrees\n",
    "```\n",
    "\n",
    "For your dataset, please use: \n",
    "```\n",
    "import numpy as np\n",
    "lat = np.array([  33.5,   1.0,   0.0,   0.0,   0.0,  10.0, -10.0]) \n",
    "lon = np.array([-101.5, -75.0, -85.0, -65.0, -75.0, -75.0, -75.0]) \n",
    "alt = np.zeros_like(lat)\n",
    "```\n",
    "\n",
    "Demonstrate that your ECEF conversion equals that provided by the coordinate system library.\n"
   ]
  },
  {
   "cell_type": "markdown",
   "metadata": {},
   "source": [
    "### SOLUTION\n",
    "   - This will be provided in 3-parts: Helmert, Coords and comparism of both results"
   ]
  },
  {
   "cell_type": "markdown",
   "metadata": {},
   "source": [
    "### (a.) Program implementing the `Helmerts_formula` for the `geodetic-to-ECEF conversion`"
   ]
  },
  {
   "cell_type": "code",
   "execution_count": 10,
   "metadata": {},
   "outputs": [
    {
     "name": "stdout",
     "output_type": "stream",
     "text": [
      "Point 1: X=-1061448.7541803515, Y=-5217187.307231329, Z=3500334.288022366\n",
      "Point 2: X=1650533.5883109367, Y=-6159875.211175389, Z=110568.77482456704\n",
      "Point 3: X=555891.26758132, Y=-6353866.263102791, Z=0.0\n",
      "Point 4: X=2695517.1720840395, Y=-5780555.229886577, Z=0.0\n",
      "Point 5: X=1650783.3278730563, Y=-6160807.251909879, Z=0.0\n",
      "Point 6: X=1625868.3272134357, Y=-6067823.203577563, Z=1100248.5477353656\n",
      "Point 7: X=1625868.3272134357, Y=-6067823.203577563, Z=-1100248.5477353656\n"
     ]
    }
   ],
   "source": [
    "import numpy as np\n",
    "\n",
    "def helmerts_formula(lat, lon, alt, a, e):\n",
    "    # Convert latitude and longitude from degrees to radians\n",
    "    lat_rad = np.radians(lat)\n",
    "    lon_rad = np.radians(lon)\n",
    "\n",
    "    # Calculate the radius of curvature in the prime vertical (N)\n",
    "    N = a / np.sqrt(1 - e**2 * np.sin(lat_rad)**2)\n",
    "\n",
    "    # Calculate X, Y, and Z using Helmert's Formula\n",
    "    X = (N + alt) * np.cos(lat_rad) * np.cos(lon_rad)\n",
    "    Y = (N + alt) * np.cos(lat_rad) * np.sin(lon_rad)\n",
    "    Z = ((1 - e**2) * N + alt) * np.sin(lat_rad)\n",
    "\n",
    "    return X, Y, Z\n",
    "\n",
    "# Define our dataset as provided by Dr. Eric\n",
    "lat = np.array([33.5, 1.0, 0.0, 0.0, 0.0, 10.0, -10.0])\n",
    "lon = np.array([-101.5, -75.0, -85.0, -65.0, -75.0, -75.0, -75.0])\n",
    "alt = np.zeros_like(lat)  # Assuming altitudes are all zero for this example\n",
    "\n",
    "# Defining the constants for the WGS84 ellipsoid\n",
    "a = 6378137.0  # Semi-major axis (meters)\n",
    "e = 0.0818191908426  # Eccentricity\n",
    "\n",
    "# Here, we perform the geodetic-to-ECEF conversion \n",
    "X, Y, Z = helmerts_formula(lat, lon, alt, a, e)\n",
    "\n",
    "# Format and display the results\n",
    "for i in range(len(lat)):\n",
    "    print(f\"Point {i + 1}: X={X[i]}, Y={Y[i]}, Z={Z[i]}\")\n"
   ]
  },
  {
   "cell_type": "markdown",
   "metadata": {},
   "source": [
    "### (b.) Program implementing `coods.py` for the `geodetic-to-ECEF conversion`\n",
    "- `The coords.py module defines a set of classes and functions for handling various coordinate systems and transformations, including geographic systems, map projections, radar coordinate systems, and tangent plane Cartesian systems. These classes and functions make use of the proj4 library to perform coordinate transformations.` (*Attached only for my consumption and future reference*)"
   ]
  },
  {
   "cell_type": "code",
   "execution_count": 11,
   "metadata": {},
   "outputs": [
    {
     "name": "stdout",
     "output_type": "stream",
     "text": [
      "Point 1: X=-1061448.7541803522, Y=-5217187.307231333, Z=3500334.2880223556\n",
      "Point 2: X=1650533.5883109367, Y=-6159875.211175389, Z=110568.77482456664\n",
      "Point 3: X=555891.26758132, Y=-6353866.263102791, Z=0.0\n",
      "Point 4: X=2695517.1720840395, Y=-5780555.229886577, Z=0.0\n",
      "Point 5: X=1650783.3278730563, Y=-6160807.251909879, Z=0.0\n",
      "Point 6: X=1625868.3272134357, Y=-6067823.203577563, Z=1100248.5477353614\n",
      "Point 7: X=1625868.3272134357, Y=-6067823.203577563, Z=-1100248.5477353614\n"
     ]
    }
   ],
   "source": [
    "import numpy as np\n",
    "from coords import GeographicSystem\n",
    "\n",
    "# Create a GeographicSystem object (defaults to WGS84 ellipsoid)\n",
    "geo = GeographicSystem()\n",
    "\n",
    "# Define our dataset as provided by Dr. Eric\n",
    "lat = np.array([33.5, 1.0, 0.0, 0.0, 0.0, 10.0, -10.0])\n",
    "lon = np.array([-101.5, -75.0, -85.0, -65.0, -75.0, -75.0, -75.0])\n",
    "alt = np.zeros_like(lat)  # Assuming altitudes are all zero for this example\n",
    "\n",
    "# Perform the geodetic-to-ECEF conversion using the GeographicSystem object\n",
    "X, Y, Z = geo.toECEF(lon, lat, alt)\n",
    "\n",
    "# Format and display the results\n",
    "for i in range(len(lat)):\n",
    "    print(f\"Point {i + 1}: X={X[i]}, Y={Y[i]}, Z={Z[i]}\")\n"
   ]
  },
  {
   "cell_type": "markdown",
   "metadata": {},
   "source": [
    "### (c.) Program to compare the result of `Helmert's Formula` with that of `Coords.py`"
   ]
  },
  {
   "cell_type": "code",
   "execution_count": 12,
   "metadata": {},
   "outputs": [
    {
     "name": "stdout",
     "output_type": "stream",
     "text": [
      "Point 1:\n",
      "Helmert_Formula - X=-1061448.7541803515, Y=-5217187.307231329, Z=3500334.288022366\n",
      "coord_Sys_Library - X=-1061448.7541803522, Y=-5217187.307231333, Z=3500334.2880223556\n",
      "\n",
      "Point 2:\n",
      "Helmert_Formula - X=1650533.5883109367, Y=-6159875.211175389, Z=110568.77482456704\n",
      "coord_Sys_Library - X=1650533.5883109367, Y=-6159875.211175389, Z=110568.77482456664\n",
      "\n",
      "Point 3:\n",
      "Helmert_Formula - X=555891.26758132, Y=-6353866.263102791, Z=0.0\n",
      "coord_Sys_Library - X=555891.26758132, Y=-6353866.263102791, Z=0.0\n",
      "\n",
      "Point 4:\n",
      "Helmert_Formula - X=2695517.1720840395, Y=-5780555.229886577, Z=0.0\n",
      "coord_Sys_Library - X=2695517.1720840395, Y=-5780555.229886577, Z=0.0\n",
      "\n",
      "Point 5:\n",
      "Helmert_Formula - X=1650783.3278730563, Y=-6160807.251909879, Z=0.0\n",
      "coord_Sys_Library - X=1650783.3278730563, Y=-6160807.251909879, Z=0.0\n",
      "\n",
      "Point 6:\n",
      "Helmert_Formula - X=1625868.3272134357, Y=-6067823.203577563, Z=1100248.5477353656\n",
      "coord_Sys_Library - X=1625868.3272134357, Y=-6067823.203577563, Z=1100248.5477353614\n",
      "\n",
      "Point 7:\n",
      "Helmert_Formula - X=1625868.3272134357, Y=-6067823.203577563, Z=-1100248.5477353656\n",
      "coord_Sys_Library - X=1625868.3272134357, Y=-6067823.203577563, Z=-1100248.5477353614\n",
      "\n"
     ]
    }
   ],
   "source": [
    "import numpy as np\n",
    "\n",
    "def helmerts_formula(lat, lon, alt, a, e):\n",
    "    # Convert latitude and longitude from degrees to radians\n",
    "    lat_rad = np.radians(lat)\n",
    "    lon_rad = np.radians(lon)\n",
    "\n",
    "    # Calculate the radius of curvature in the prime vertical (N)\n",
    "    N = a / np.sqrt(1 - e**2 * np.sin(lat_rad)**2)\n",
    "\n",
    "    # Calculate X, Y, and Z using Helmert's Formula\n",
    "    X = (N + alt) * np.cos(lat_rad) * np.cos(lon_rad)\n",
    "    Y = (N + alt) * np.cos(lat_rad) * np.sin(lon_rad)\n",
    "    Z = ((1 - e**2) * N + alt) * np.sin(lat_rad)\n",
    "\n",
    "    return X, Y, Z\n",
    "\n",
    "# Example usage:\n",
    "lat = np.array([33.5, 1.0, 0.0, 0.0, 0.0, 10.0, -10.0])\n",
    "lon = np.array([-101.5, -75.0, -85.0, -65.0, -75.0, -75.0, -75.0])\n",
    "alt = np.zeros_like(lat)  # Assuming altitudes are all zero for this example\n",
    "\n",
    "# Constants for the WGS84 ellipsoid\n",
    "a = 6378137.0  # Semi-major axis (meters)\n",
    "e = 0.0818191908426  # Eccentricity\n",
    "\n",
    "# Perform the conversion using Helmert's Formula\n",
    "X_helmert, Y_helmert, Z_helmert = helmerts_formula(lat, lon, alt, a, e)\n",
    "\n",
    "# Import and use the coord_sys_library (GeographicSystem)\n",
    "from coords import GeographicSystem\n",
    "geo = GeographicSystem()\n",
    "X_geo, Y_geo, Z_geo = geo.toECEF(lon, lat, alt)\n",
    "\n",
    "# Compare the result of ECEF conversion (Helmert) with coordinate system library (Coords)\n",
    "for i in range(len(lat)):\n",
    "    print(f\"Point {i + 1}:\")\n",
    "    print(f\"Helmert_Formula - X={X_helmert[i]}, Y={Y_helmert[i]}, Z={Z_helmert[i]}\")\n",
    "    print(f\"coord_Sys_Library - X={X_geo[i]}, Y={Y_geo[i]}, Z={Z_geo[i]}\")\n",
    "    print()  # Blank line for separation\n"
   ]
  },
  {
   "cell_type": "markdown",
   "metadata": {},
   "source": [
    "- NOTE: *Both `HELMERT` and `COORDS` produced the same result*"
   ]
  },
  {
   "cell_type": "markdown",
   "metadata": {},
   "source": [
    "**Question 2.**\n",
    "\n",
    "Using the `TangentPlaneCartesianSystem` class, convert the geodetic coordinates to local $(x, y, z)$. Create three tangent planes:\n",
    "\n",
    "- A tangent plane centered at the MCOM building on the TTU campus, at the height of the ground at that location.\n",
    "\n",
    "- A tangent plane centered at the MCOM building on the TTU campus, at the ellipsoid.\n",
    "\n",
    "- A tangent plane directly below the GOES-East satellite at -75.0 degrees longitude.\n",
    "\n",
    "Use `TangentPlaneCartesianSystem?` in the notebook to learn about the arguments accepted by the projection class. It has the same `.toECEF` and `.fromECEF` methods as the `GeographicSystem`.\n",
    "\n",
    "Transform the geodetic dataset from the first problem into coordiantes with respect to each tangent plane.\n",
    "\n",
    "You do not need to use the NAD83 locations of MCOM. They are only there to show my work on how I obtained the vertical position of MCOM in WGS84.\n",
    "\n",
    "**a.** Using only the GOES-East tangent plane and the transformed geodetic dataset, show that the WGS84 earth shape is not spherical.\n",
    "\n",
    "**b.** What is a rough, easily memorable rule of thumb for the number of kilometers per degree latitude?\n",
    "\n",
    "**c.** Print out the tangent plane $(x,y,z)$ of the zeroth data point (it is a bit east of Lubbock). Explain why the differences in the coordinates of the two MCOM tangent planes make sense.\n",
    "\n",
    "**d.** Imagine that there was no terrain, so that a radar located at MCOM was precisely on the WGS84 ellipsoid. If that radar were to scan toward the zeroth position at 0° elevation angle (assume no atmospheric refraction), how high above the ground would the beam be? Is this disance measured perpendicular to the ellipsoid or perpendicular to the tangent plane?\n",
    "\n",
    "**e.** Transform your coordiantes back to ECEF from each tangent plane and show they're equal."
   ]
  },
  {
   "cell_type": "code",
   "execution_count": null,
   "metadata": {},
   "outputs": [],
   "source": [
    "from coords import TangentPlaneCartesianSystem\n",
    "\n",
    "# From USGS Elevation point query service\n",
    "# https://nationalmap.gov/epqs/\n",
    "# NAD83 lon, lat and NAVD88 vertical\n",
    "mcom_lat_nad83, mcom_lon_nad83 = 33.581857, -101.880360 # NAD83\n",
    "mcom_alt_nad83 = 983.15\n",
    "\n",
    "# Using https://vdatum.noaa.gov/vdatumweb/, convert the above to \"WGS84 G1674 (Use ITRF2008)\"\n",
    "mcom_lon, mcom_lat = -101.8803718553, 33.5818617015\n",
    "mcom_alt = 957.179\n",
    "\n",
    "# The altitude difference is about the height of the geoid at this location."
   ]
  },
  {
   "cell_type": "markdown",
   "metadata": {},
   "source": [
    "#### SOLUTION"
   ]
  },
  {
   "cell_type": "markdown",
   "metadata": {},
   "source": [
    "#### Program to create the tangent planes for the three scenarios and performing the necessary calculations:"
   ]
  },
  {
   "cell_type": "code",
   "execution_count": 22,
   "metadata": {},
   "outputs": [
    {
     "name": "stderr",
     "output_type": "stream",
     "text": [
      "C:\\Users\\dayo\\Desktop\\data-fields\\coords.py:390: RuntimeWarning: invalid value encountered in subtract\n",
      "  n = aboveCenterECEF - self.centerECEF\n",
      "C:\\Users\\dayo\\Desktop\\data-fields\\coords.py:390: RuntimeWarning: invalid value encountered in subtract\n",
      "  n = aboveCenterECEF - self.centerECEF\n"
     ]
    }
   ],
   "source": [
    "import numpy as np\n",
    "from coords import TangentPlaneCartesianSystem\n",
    "\n",
    "# Define the geodetic coordinates of the MCOM building on the TTU campus\n",
    "mcom_lat_wgs84 = 33.5818617015\n",
    "mcom_lon_wgs84 = -101.8803718553\n",
    "mcom_alt_wgs84 = 957.179\n",
    "\n",
    "# Define the geodetic coordinates of the GOES-East satellite location\n",
    "goes_east_lat_wgs84 = 0.0\n",
    "goes_east_lon_wgs84 = -75.0\n",
    "goes_east_alt_wgs84 = 0.0  # Assuming the satellite is at sea level based on given data\n",
    "\n",
    "# Define the provided geodetic dataset\n",
    "lat = np.array([  33.5,   1.0,   0.0,   0.0,   0.0,  10.0, -10.0])\n",
    "lon = np.array([-101.5, -75.0, -85.0, -65.0, -75.0, -75.0, -75.0])\n",
    "alt = np.zeros_like(lat)\n",
    "\n",
    "# Create TangentPlaneCartesianSystem instances for the three tangent planes\n",
    "tangent_plane_mcom_ground = TangentPlaneCartesianSystem(\n",
    "    mcom_lon_wgs84, mcom_lat_wgs84, mcom_alt_wgs84\n",
    ")\n",
    "\n",
    "tangent_plane_mcom_ellipsoid = TangentPlaneCartesianSystem(\n",
    "    mcom_lon_wgs84, mcom_lat_wgs84, 0.0  # At the ellipsoid\n",
    ")\n",
    "\n",
    "tangent_plane_goes_east = TangentPlaneCartesianSystem(\n",
    "    goes_east_lon_wgs84, goes_east_lat_wgs84, goes_east_alt_wgs84\n",
    ")\n",
    "\n",
    "# Transform the geodetic dataset to the three tangent planes\n",
    "X_mcom_ground, Y_mcom_ground, Z_mcom_ground = tangent_plane_mcom_ground.toECEF(lon, lat, alt)\n",
    "X_mcom_ellipsoid, Y_mcom_ellipsoid, Z_mcom_ellipsoid = tangent_plane_mcom_ellipsoid.toECEF(lon, lat, alt)\n",
    "X_goes_east, Y_goes_east, Z_goes_east = tangent_plane_goes_east.toECEF(lon, lat, alt)\n",
    "\n",
    "# Now we have the Cartesian coordinates in the three tangent planes\n",
    "# X_mcom_ground, Y_mcom_ground, Z_mcom_ground: MCOM building's ground\n",
    "# X_mcom_ellipsoid, Y_mcom_ellipsoid, Z_mcom_ellipsoid: MCOM building's ellipsoid\n",
    "# X_goes_east, Y_goes_east, Z_goes_east: GOES-East satellite location\n"
   ]
  },
  {
   "cell_type": "markdown",
   "metadata": {},
   "source": [
    "### Answer to Part a\n",
    "- (a.) Calculate the differences between the GOES-East tangent plane and the transformed geodetic dataset"
   ]
  },
  {
   "cell_type": "code",
   "execution_count": 18,
   "metadata": {},
   "outputs": [
    {
     "name": "stdout",
     "output_type": "stream",
     "text": [
      "Point 1: Delta_X=-2717444.0650600377, Delta_Y=-5217085.807231333, Delta_Z=9639091.299942587\n",
      "Point 2: Delta_X=-5430.32997939433, Delta_Y=-6159800.211175389, Delta_Z=6249334.198363762\n",
      "Point 3: Delta_X=-1100071.684783185, Delta_Y=-6353781.263102791, Delta_Z=6138765.682358242\n",
      "Point 4: Delta_X=1039554.2197195347, Delta_Y=-5780490.229886577, Delta_Z=6138765.682358242\n",
      "Point 5: Delta_X=-5179.624491448514, Delta_Y=-6160732.251909879, Delta_Z=6138765.682358242\n",
      "Point 6: Delta_X=-30104.28440933209, Delta_Y=-6067748.203577563, Delta_Z=7239011.641903152\n",
      "Point 7: Delta_X=-30084.965892806184, Delta_Y=-6067748.203577563, Delta_Z=5038519.7228133315\n"
     ]
    }
   ],
   "source": [
    "# Differences in X, Y, and Z coordinates between the geodetic dataset\n",
    "# transformed to the GOES-East tangent plane and the actual geodetic coordinates.\n",
    "\n",
    "delta_X = X - X_goes_east  # Difference in X coordinates\n",
    "delta_Y = Y - Y_goes_east  # Difference in Y coordinates\n",
    "delta_Z = Z - Z_goes_east  # Difference in Z coordinates\n",
    "\n",
    "# Output the delta values\n",
    "for i in range(len(lat)):\n",
    "    print(f\"Point {i + 1}: Delta_X={delta_X[i]}, Delta_Y={delta_Y[i]}, Delta_Z={delta_Z[i]}\")\n"
   ]
  },
  {
   "cell_type": "markdown",
   "metadata": {},
   "source": [
    "### `Analysis of part a (Coordinate Differences)`\n",
    "\n",
    "### `Point 1`\n",
    "- **Delta_X:** -2,717,444.07 meters\n",
    "- **Delta_Y:** -5,217,085.81 meters\n",
    "- **Delta_Z:** 9,639,091.30 meters\n",
    "- Explanation: At Point 1, the coordinates in the GOES-East tangent plane significantly differ from the geodetic coordinates. Specifically, the X and Y coordinates are shifted by millions of meters, and the Z coordinate (altitude) is shifted significantly, highlighting the non-spherical nature of the Earth.\n",
    "\n",
    "### `The differences are also large for Points 2, 3, 4, 5, 6, & 7`\n",
    "\n",
    "These results clearly demonstrate that the Earth's shape is not spherical, as the differences between the geodetic coordinates and the tangent plane coordinates are substantial. This is expected because the Earth is an oblate spheroid, meaning it is flattened at the poles and bulging at the equator. \n",
    "- `The deviations from a sphere are expected to be more pronounced at higher latitudes`.\n"
   ]
  },
  {
   "cell_type": "markdown",
   "metadata": {},
   "source": [
    "### Answer to Part b\n",
    "- Rule of thumb, it is Approximately 111.32 kilometers per degree latitude.\n",
    "\n",
    " - -`This value represents the length of one degree of latitude on the Earth's surface.`"
   ]
  },
  {
   "cell_type": "markdown",
   "metadata": {},
   "source": [
    "### Answer to Part c\n",
    "\n",
    "- **c.** Print out the tangent plane $(x,y,z)$ of the zeroth data point (it is a bit east of Lubbock). Explain why the differences in the coordinates of the two MCOM tangent planes make sense."
   ]
  },
  {
   "cell_type": "code",
   "execution_count": 24,
   "metadata": {},
   "outputs": [
    {
     "name": "stdout",
     "output_type": "stream",
     "text": [
      "Tangent Plane (MCOM Ground) Coordinates for Zeroth Data Point:\n",
      "X=nan, Y=nan, Z=nan\n",
      "\n",
      "Tangent Plane (MCOM Ellipsoid) Coordinates for Zeroth Data Point:\n",
      "X=nan, Y=nan, Z=nan\n"
     ]
    }
   ],
   "source": [
    "# The tangent plane (𝑥,𝑦,𝑧) coordinates of the zeroth data point\n",
    "\n",
    "# Extract the coordinates of the zeroth data point from the transformed MCOM ground tangent plane\n",
    "X_mcom_ground_zeroth = X_mcom_ground[0]\n",
    "Y_mcom_ground_zeroth = Y_mcom_ground[0]\n",
    "Z_mcom_ground_zeroth = Z_mcom_ground[0]\n",
    "\n",
    "# Extract the coordinates of the zeroth data point from the transformed MCOM ellipsoid tangent plane\n",
    "X_mcom_ellipsoid_zeroth = X_mcom_ellipsoid[0]\n",
    "Y_mcom_ellipsoid_zeroth = Y_mcom_ellipsoid[0]\n",
    "Z_mcom_ellipsoid_zeroth = Z_mcom_ellipsoid[0]\n",
    "\n",
    "# Print the coordinates\n",
    "print(\"Tangent Plane (MCOM Ground) Coordinates for Zeroth Data Point:\")\n",
    "print(f\"X={X_mcom_ground_zeroth}, Y={Y_mcom_ground_zeroth}, Z={Z_mcom_ground_zeroth}\")\n",
    "\n",
    "print(\"\\nTangent Plane (MCOM Ellipsoid) Coordinates for Zeroth Data Point:\")\n",
    "print(f\"X={X_mcom_ellipsoid_zeroth}, Y={Y_mcom_ellipsoid_zeroth}, Z={Z_mcom_ellipsoid_zeroth}\")\n",
    "\n",
    "# Explain the differences between the two MCOM tangent planes\n",
    "\n",
    "# Calculate the differences in coordinates between MCOM Ground and MCOM Ellipsoid tangent planes\n",
    "delta_X_mcom = X_mcom_ground_zeroth - X_mcom_ellipsoid_zeroth\n",
    "delta_Y_mcom = Y_mcom_ground_zeroth - Y_mcom_ellipsoid_zeroth\n",
    "delta_Z_mcom = Z_mcom_ground_zeroth - Z_mcom_ellipsoid_zeroth\n",
    "\n"
   ]
  },
  {
   "cell_type": "markdown",
   "metadata": {},
   "source": [
    "- #### I know the answers here can not be `nan`. So obvioulsy, something is wrong."
   ]
  },
  {
   "cell_type": "markdown",
   "metadata": {},
   "source": [
    "**Question 3** Use the `GeostationaryFixedGridSystem` to define two more coordiante transformations for the GOES-East and GOES-West locations at -75.0 and -135.0 degrees longitude.\n",
    "\n",
    "Use `GeostationaryFixedGridSystem?` in the notebook to learn about the arguments accepted by the projection class.\n",
    "\n",
    "Convert the dataset to fixed grid coordinates.\n",
    "\n",
    "For more on fixed grid coordiantes, you can read the [GOES-R L1b product users' guide](https://www.goes-r.gov/resources/docs.html) and [my own description of GOES fixed grid coordiantes](https://github.com/deeplycloudy/glmtools/blob/master/docs/fixedgridguide.md), a.k.a. [the geostationary projection](https://proj.org/operations/projections/geos.html).\n",
    "\n"
   ]
  },
  {
   "cell_type": "code",
   "execution_count": null,
   "metadata": {},
   "outputs": [],
   "source": [
    "from coords import GeostationaryFixedGridSystem\n"
   ]
  },
  {
   "cell_type": "markdown",
   "metadata": {},
   "source": [
    "**Question 4.** Make a plot of the east and north coordinate data from the lon/lat, 3 tangent plane, and two GOES fixed grid projections, for a total of 6 plots.\n",
    "\n",
    "Transform and plot three more locations (your hometown, your undergraduate institution's location, and the farthest you've been from home).\n",
    "\n",
    "Does everything make sense? If not, what do you observe? Offer a plausible explanation for what might have happened.\n",
    "\n",
    "Label the coordinates with the altitude of the point in that coordinate reference system."
   ]
  },
  {
   "cell_type": "code",
   "execution_count": null,
   "metadata": {},
   "outputs": [],
   "source": [
    "loc_lon = \n",
    "loc_lat = \n",
    "loc_alt = \n",
    "\n",
    "\n",
    "%matplotlib notebook\n",
    "import matplotlib.pyplot as plt\n",
    "n_rows, n_cols = 3, 2\n",
    "fig, axes = plt.subplots(n_rows, n_cols, figsize=(8,8))\n",
    "\n",
    "axes[0,0].plot\n",
    "axes[0,0].set_xlabel('Longitude')\n",
    "axes[0,0].set_ylabel('Latitude')\n",
    "axes[0,0].set_title('WGS84')\n",
    "axes[0,0].plot(lon, lat, marker='.', linestyle='none')\n",
    "axes[0,0].plot(loc_lon, loc_lat, marker='.', linestyle='none')\n",
    "for tlon, tlat, tlabel in zip(lon, lat, alt):\n",
    "    axes[0,0].text(tlon, tlat, tlabel)\n",
    "for tlon, tlat, tlabel in zip(loc_lon, loc_lat, loc_alt):\n",
    "    axes[0,0].text(tlon, tlat, tlabel)\n",
    "\n",
    "\n",
    "# Make the other five panels here\n",
    "    \n",
    "    \n",
    "fig.tight_layout()"
   ]
  },
  {
   "cell_type": "code",
   "execution_count": null,
   "metadata": {},
   "outputs": [],
   "source": [
    "# BONUS! Make a 3D plot of all locations. \n",
    "# Try to imagine the curved earth surface on which they reside.\n",
    "# This part is not graded, but might be useful to you.\n",
    "\n",
    "from mpl_toolkits.mplot3d import Axes3D\n",
    "fig = plt.figure(figsize=(8,8))\n",
    "ax = fig.add_subplot(111, projection='3d')\n",
    "\n",
    "ax.plot(X, Y, Z, marker='o', linestyle='none') # original locations\n",
    "ax.plot(locX, locY, locZ, marker='o', linestyle='none') # personal locations\n",
    "ax.set_xlabel('ECEF X (m)')\n",
    "ax.set_ylabel('ECEF Y (m)')\n",
    "ax.set_zlabel('ECEF Z (m)')\n",
    "# ax.set_aspect('equal')"
   ]
  },
  {
   "cell_type": "code",
   "execution_count": null,
   "metadata": {},
   "outputs": [],
   "source": []
  },
  {
   "cell_type": "markdown",
   "metadata": {},
   "source": [
    "**5.** Using the arrays you created in the previous assignment, create a `pcolormesh` plot of the data in geostationary coordinates from both the GOES East and GOES West positions. (15 pts.)"
   ]
  },
  {
   "cell_type": "markdown",
   "metadata": {},
   "source": [
    "**6.** One thing we didn't do in the previous assignment was plot in a \"traditional\" map projection. We'll do that now with the Azimuthal Equidistant and Gnomonic projections, centered on MCOM, as defined below. The MapProjection class has the same to/from ECEF methods, and coordinates returned are in meters relative to the center point. (15 pts.)\n",
    "\n",
    "If you're curious, you can peruse [the full list of projections](https://proj.org/operations/projections/index.html) to see how to define others.\n",
    "\n",
    "Create a plot of the same data in each map projection, and set the axis limits to +/- 1600 km. Do you notice any differences in the two projections?"
   ]
  },
  {
   "cell_type": "code",
   "execution_count": null,
   "metadata": {},
   "outputs": [],
   "source": [
    "aeqd = MapProjection(projection='aeqd', lon_0=mcom_lon, lat_0=mcom_lat)\n",
    "gnom = MapProjection(projection='gnom', lon_0=mcom_lon, lat_0=mcom_lat)\n",
    "\n"
   ]
  },
  {
   "cell_type": "code",
   "execution_count": null,
   "metadata": {},
   "outputs": [],
   "source": []
  },
  {
   "cell_type": "code",
   "execution_count": null,
   "metadata": {},
   "outputs": [],
   "source": []
  },
  {
   "cell_type": "code",
   "execution_count": null,
   "metadata": {},
   "outputs": [],
   "source": []
  }
 ],
 "metadata": {
  "kernelspec": {
   "display_name": "Python 3 (ipykernel)",
   "language": "python",
   "name": "python3"
  },
  "language_info": {
   "codemirror_mode": {
    "name": "ipython",
    "version": 3
   },
   "file_extension": ".py",
   "mimetype": "text/x-python",
   "name": "python",
   "nbconvert_exporter": "python",
   "pygments_lexer": "ipython3",
   "version": "3.9.7"
  }
 },
 "nbformat": 4,
 "nbformat_minor": 4
}
