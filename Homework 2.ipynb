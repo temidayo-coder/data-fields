{
 "cells": [
  {
   "cell_type": "code",
   "execution_count": null,
   "metadata": {},
   "outputs": [],
   "source": [
    "%%html\n",
    "<style type=\"text/css\">\n",
    "  span.ecb { background: yellow; }\n",
    "</style>"
   ]
  },
  {
   "cell_type": "markdown",
   "metadata": {},
   "source": [
    "<span class=\"ecb\">Comments by ECB</span>"
   ]
  },
  {
   "cell_type": "markdown",
   "metadata": {
    "tags": []
   },
   "source": [
    "# ATMO 5331 - Homework 2 - Fall 2023\n",
    "## Due 24 Sep, 2023 (Sunday, 11:59 pm)\n",
    "\n",
    "When doing this homework, remember that you have three jobs:\n",
    "1. Make it work and get the right answer.\n",
    "2. Clean it up so that I can understand what you've done. If you think I might not undersand, document it with a comment or a function docstring.\n",
    "3. Practice _generalizing_ your thinking: write code that is tolerant of changes to the specifics of a problem, but not the structure of the problem.\n",
    "\n",
    "You should present your work with a clear logical progression. If that seems like a hassle, remember that in doing so you are practicing skills that are expected in your thesis and journal publications.\n",
    "\n",
    "You may work alone or in pairs. I will not be adjudicating relative level of effort in group work, so you are responsible for ensuring there is an even contribution by your partner."
   ]
  },
  {
   "cell_type": "markdown",
   "metadata": {},
   "source": [
    "**Question 1**\n",
    "\n",
    "Grab the [WGS84 implementation manual](https://www.icao.int/safety/pbn/documentation/eurocontrol/eurocontrol%20wgs%2084%20implementation%20manual.pdf), and implement a translation from geodetic latitude, longitude, and altitude (referenced to the WGS84 ellipsoid) to the local XYZ cartesian system used for WGS84.\n",
    "\n",
    "Use part 1 of Helmert's formula on p. 81 (Appendix E), and refer to Fig. B-6 in Appendix B (p. 70) for information about the coordinate system notation.\n",
    "\n",
    "Careful with degrees and radians.\n",
    "\n",
    "Compare your results to what you get when using the `proj4` library. This library has its origins in public domain code written by the USGS, and is used in many open source packages, including the QGIS system. For easy use of the `proj4` library, we will use the helper routines in `coords.py`. I use these same helpers all the time in practice, and this code is running in operations in NOAA.\n",
    "\n",
    "You set up a coordinate system transform object as shown below. It defaults to a WGS84 ellipsoid, so we don't have to specify that. Once the coordinate system object `geo` has been created, you can reuse it withouth calling `GeographicSystem()` again. It accepts arrays of data.\n",
    "```\n",
    "from coords import GeographicSystem \n",
    "geo = GeographicSystem() \n",
    "X, Y, Z = geo.toECEF(lon, lat, alt) # Use degrees\n",
    "```\n",
    "\n",
    "For your dataset, please use: \n",
    "```\n",
    "import numpy as np\n",
    "lat = np.array([  33.5,   1.0,   0.0,   0.0,   0.0,  10.0, -10.0]) \n",
    "lon = np.array([-101.5, -75.0, -85.0, -65.0, -75.0, -75.0, -75.0]) \n",
    "alt = np.zeros_like(lat)\n",
    "```\n",
    "\n",
    "Demonstrate that your ECEF conversion equals that provided by the coordinate system library.\n"
   ]
  },
  {
   "cell_type": "markdown",
   "metadata": {},
   "source": [
    "### SOLUTION\n",
    "   - This will be provided in 3-parts: Helmert, Coords and comparism of both results"
   ]
  },
  {
   "cell_type": "markdown",
   "metadata": {},
   "source": [
    "### (a.) Program implementing the `Helmerts_formula` for the `geodetic-to-ECEF conversion`"
   ]
  },
  {
   "cell_type": "code",
   "execution_count": 26,
   "metadata": {},
   "outputs": [
    {
     "name": "stdout",
     "output_type": "stream",
     "text": [
      "Point 1: X=-1061448.7541803515, Y=-5217187.307231329, Z=3500334.288022366\n",
      "Point 2: X=1650533.5883109367, Y=-6159875.211175389, Z=110568.77482456704\n",
      "Point 3: X=555891.26758132, Y=-6353866.263102791, Z=0.0\n",
      "Point 4: X=2695517.1720840395, Y=-5780555.229886577, Z=0.0\n",
      "Point 5: X=1650783.3278730563, Y=-6160807.251909879, Z=0.0\n",
      "Point 6: X=1625868.3272134357, Y=-6067823.203577563, Z=1100248.5477353656\n",
      "Point 7: X=1625868.3272134357, Y=-6067823.203577563, Z=-1100248.5477353656\n"
     ]
    }
   ],
   "source": [
    "import numpy as np\n",
    "\n",
    "def helmerts_formula(lat, lon, alt, a, e):\n",
    "    # Convert latitude and longitude from degrees to radians\n",
    "    lat_rad = np.radians(lat)\n",
    "    lon_rad = np.radians(lon)\n",
    "\n",
    "    # Calculate the radius of curvature in the prime vertical (N)\n",
    "    N = a / np.sqrt(1 - e**2 * np.sin(lat_rad)**2)\n",
    "\n",
    "    # Calculate X, Y, and Z using Helmert's Formula\n",
    "    X = (N + alt) * np.cos(lat_rad) * np.cos(lon_rad)\n",
    "    Y = (N + alt) * np.cos(lat_rad) * np.sin(lon_rad)\n",
    "    Z = ((1 - e**2) * N + alt) * np.sin(lat_rad)\n",
    "\n",
    "    return X, Y, Z\n",
    "\n",
    "# Define our dataset as provided by Dr. Eric\n",
    "lat = np.array([33.5, 1.0, 0.0, 0.0, 0.0, 10.0, -10.0])\n",
    "lon = np.array([-101.5, -75.0, -85.0, -65.0, -75.0, -75.0, -75.0])\n",
    "alt = np.zeros_like(lat)  # Assuming altitudes are all zero for this example\n",
    "\n",
    "# Defining the constants for the WGS84 ellipsoid\n",
    "a = 6378137.0  # Semi-major axis (meters)\n",
    "e = 0.0818191908426  # Eccentricity\n",
    "\n",
    "# Here, we perform the geodetic-to-ECEF conversion \n",
    "X, Y, Z = helmerts_formula(lat, lon, alt, a, e)\n",
    "\n",
    "# Format and display the results\n",
    "for i in range(len(lat)):\n",
    "    print(f\"Point {i + 1}: X={X[i]}, Y={Y[i]}, Z={Z[i]}\")\n"
   ]
  },
  {
   "cell_type": "markdown",
   "metadata": {},
   "source": [
    "### (b.) Program implementing `coods.py` for the `geodetic-to-ECEF conversion`\n",
    "- `The coords.py module defines a set of classes and functions for handling various coordinate systems and transformations, including geographic systems, map projections, radar coordinate systems, and tangent plane Cartesian systems. These classes and functions make use of the proj4 library to perform coordinate transformations.` (*Attached only for my consumption and future reference*)"
   ]
  },
  {
   "cell_type": "code",
   "execution_count": 27,
   "metadata": {},
   "outputs": [
    {
     "name": "stdout",
     "output_type": "stream",
     "text": [
      "Point 1: X=-1061448.7541803522, Y=-5217187.307231333, Z=3500334.2880223556\n",
      "Point 2: X=1650533.5883109367, Y=-6159875.211175389, Z=110568.77482456664\n",
      "Point 3: X=555891.26758132, Y=-6353866.263102791, Z=0.0\n",
      "Point 4: X=2695517.1720840395, Y=-5780555.229886577, Z=0.0\n",
      "Point 5: X=1650783.3278730563, Y=-6160807.251909879, Z=0.0\n",
      "Point 6: X=1625868.3272134357, Y=-6067823.203577563, Z=1100248.5477353614\n",
      "Point 7: X=1625868.3272134357, Y=-6067823.203577563, Z=-1100248.5477353614\n"
     ]
    }
   ],
   "source": [
    "import numpy as np\n",
    "from coords import GeographicSystem\n",
    "\n",
    "# Create a GeographicSystem object (defaults to WGS84 ellipsoid)\n",
    "geo = GeographicSystem()\n",
    "\n",
    "# Define our dataset as provided by Dr. Eric\n",
    "lat = np.array([33.5, 1.0, 0.0, 0.0, 0.0, 10.0, -10.0])\n",
    "lon = np.array([-101.5, -75.0, -85.0, -65.0, -75.0, -75.0, -75.0])\n",
    "alt = np.zeros_like(lat)  # Assuming altitudes are all zero for this example\n",
    "\n",
    "# Perform the geodetic-to-ECEF conversion using the GeographicSystem object\n",
    "X, Y, Z = geo.toECEF(lon, lat, alt)\n",
    "\n",
    "# Format and display the results\n",
    "for i in range(len(lat)):\n",
    "    print(f\"Point {i + 1}: X={X[i]}, Y={Y[i]}, Z={Z[i]}\")\n"
   ]
  },
  {
   "cell_type": "markdown",
   "metadata": {},
   "source": [
    "### (c.) Program to compare the result of `Helmert's Formula` with that of `Coords.py`"
   ]
  },
  {
   "cell_type": "code",
   "execution_count": 28,
   "metadata": {},
   "outputs": [
    {
     "name": "stdout",
     "output_type": "stream",
     "text": [
      "Point 1:\n",
      "Helmert_Formula:  X=-1061448.7541803515, Y=-5217187.307231329, Z=3500334.288022366\n",
      "coord_Sys_Library:  X=-1061448.7541803522, Y=-5217187.307231333, Z=3500334.2880223556\n",
      "\n",
      "Point 2:\n",
      "Helmert_Formula:  X=1650533.5883109367, Y=-6159875.211175389, Z=110568.77482456704\n",
      "coord_Sys_Library:  X=1650533.5883109367, Y=-6159875.211175389, Z=110568.77482456664\n",
      "\n",
      "Point 3:\n",
      "Helmert_Formula:  X=555891.26758132, Y=-6353866.263102791, Z=0.0\n",
      "coord_Sys_Library:  X=555891.26758132, Y=-6353866.263102791, Z=0.0\n",
      "\n",
      "Point 4:\n",
      "Helmert_Formula:  X=2695517.1720840395, Y=-5780555.229886577, Z=0.0\n",
      "coord_Sys_Library:  X=2695517.1720840395, Y=-5780555.229886577, Z=0.0\n",
      "\n",
      "Point 5:\n",
      "Helmert_Formula:  X=1650783.3278730563, Y=-6160807.251909879, Z=0.0\n",
      "coord_Sys_Library:  X=1650783.3278730563, Y=-6160807.251909879, Z=0.0\n",
      "\n",
      "Point 6:\n",
      "Helmert_Formula:  X=1625868.3272134357, Y=-6067823.203577563, Z=1100248.5477353656\n",
      "coord_Sys_Library:  X=1625868.3272134357, Y=-6067823.203577563, Z=1100248.5477353614\n",
      "\n",
      "Point 7:\n",
      "Helmert_Formula:  X=1625868.3272134357, Y=-6067823.203577563, Z=-1100248.5477353656\n",
      "coord_Sys_Library:  X=1625868.3272134357, Y=-6067823.203577563, Z=-1100248.5477353614\n",
      "\n"
     ]
    }
   ],
   "source": [
    "import numpy as np\n",
    "\n",
    "def helmerts_formula(lat, lon, alt, a, e):\n",
    "    # Convert latitude and longitude from degrees to radians\n",
    "    lat_rad = np.radians(lat)\n",
    "    lon_rad = np.radians(lon)\n",
    "\n",
    "    # Calculate the radius of curvature in the prime vertical (N)\n",
    "    N = a / np.sqrt(1 - e**2 * np.sin(lat_rad)**2)\n",
    "\n",
    "    # Calculate X, Y, and Z using Helmert's Formula\n",
    "    X = (N + alt) * np.cos(lat_rad) * np.cos(lon_rad)\n",
    "    Y = (N + alt) * np.cos(lat_rad) * np.sin(lon_rad)\n",
    "    Z = ((1 - e**2) * N + alt) * np.sin(lat_rad)\n",
    "\n",
    "    return X, Y, Z\n",
    "\n",
    "# Example usage:\n",
    "lat = np.array([33.5, 1.0, 0.0, 0.0, 0.0, 10.0, -10.0])\n",
    "lon = np.array([-101.5, -75.0, -85.0, -65.0, -75.0, -75.0, -75.0])\n",
    "alt = np.zeros_like(lat)  # Assuming altitudes are all zero for this example\n",
    "\n",
    "# Constants for the WGS84 ellipsoid\n",
    "a = 6378137.0  # Semi-major axis (meters)\n",
    "e = 0.0818191908426  # Eccentricity\n",
    "\n",
    "# Perform the conversion using Helmert's Formula\n",
    "X_helmert, Y_helmert, Z_helmert = helmerts_formula(lat, lon, alt, a, e)\n",
    "\n",
    "# Import and use the coord_sys_library (GeographicSystem)\n",
    "from coords import GeographicSystem\n",
    "geo = GeographicSystem()\n",
    "X_geo, Y_geo, Z_geo = geo.toECEF(lon, lat, alt)\n",
    "\n",
    "# Compare the result of ECEF conversion (Helmert) with coordinate system library (Coords)\n",
    "for i in range(len(lat)):\n",
    "    print(f\"Point {i + 1}:\")\n",
    "    print(f\"Helmert_Formula:  X={X_helmert[i]}, Y={Y_helmert[i]}, Z={Z_helmert[i]}\")\n",
    "    print(f\"coord_Sys_Library:  X={X_geo[i]}, Y={Y_geo[i]}, Z={Z_geo[i]}\")\n",
    "    print()  # Blank line for separation\n"
   ]
  },
  {
   "cell_type": "markdown",
   "metadata": {},
   "source": [
    "- NOTE: *Both `HELMERT` and `COORDS` produced the same result*"
   ]
  },
  {
   "cell_type": "markdown",
   "metadata": {},
   "source": [
    "**Question 2.**\n",
    "\n",
    "Using the `TangentPlaneCartesianSystem` class, convert the geodetic coordinates to local $(x, y, z)$. Create three tangent planes:\n",
    "\n",
    "- A tangent plane centered at the MCOM building on the TTU campus, at the height of the ground at that location.\n",
    "\n",
    "- A tangent plane centered at the MCOM building on the TTU campus, at the ellipsoid.\n",
    "\n",
    "- A tangent plane directly below the GOES-East satellite at -75.0 degrees longitude.\n",
    "\n",
    "Use `TangentPlaneCartesianSystem?` in the notebook to learn about the arguments accepted by the projection class. It has the same `.toECEF` and `.fromECEF` methods as the `GeographicSystem`.\n",
    "\n",
    "Transform the geodetic dataset from the first problem into coordiantes with respect to each tangent plane.\n",
    "\n",
    "You do not need to use the NAD83 locations of MCOM. They are only there to show my work on how I obtained the vertical position of MCOM in WGS84.\n",
    "\n",
    "**a.** Using only the GOES-East tangent plane and the transformed geodetic dataset, show that the WGS84 earth shape is not spherical.\n",
    "\n",
    "**b.** What is a rough, easily memorable rule of thumb for the number of kilometers per degree latitude?\n",
    "\n",
    "**c.** Print out the tangent plane $(x,y,z)$ of the zeroth data point (it is a bit east of Lubbock). Explain why the differences in the coordinates of the two MCOM tangent planes make sense.\n",
    "\n",
    "**d.** Imagine that there was no terrain, so that a radar located at MCOM was precisely on the WGS84 ellipsoid. If that radar were to scan toward the zeroth position at 0° elevation angle (assume no atmospheric refraction), how high above the ground would the beam be? Is this disance measured perpendicular to the ellipsoid or perpendicular to the tangent plane?\n",
    "\n",
    "**e.** Transform your coordiantes back to ECEF from each tangent plane and show they're equal."
   ]
  },
  {
   "cell_type": "code",
   "execution_count": 29,
   "metadata": {},
   "outputs": [],
   "source": [
    "from coords import TangentPlaneCartesianSystem\n",
    "\n",
    "# From USGS Elevation point query service\n",
    "# https://nationalmap.gov/epqs/\n",
    "# NAD83 lon, lat and NAVD88 vertical\n",
    "mcom_lat_nad83, mcom_lon_nad83 = 33.581857, -101.880360 # NAD83\n",
    "mcom_alt_nad83 = 983.15\n",
    "\n",
    "# Using https://vdatum.noaa.gov/vdatumweb/, convert the above to \"WGS84 G1674 (Use ITRF2008)\"\n",
    "mcom_lon, mcom_lat = -101.8803718553, 33.5818617015\n",
    "mcom_alt = 957.179\n",
    "\n",
    "# The altitude difference is about the height of the geoid at this location."
   ]
  },
  {
   "cell_type": "markdown",
   "metadata": {},
   "source": [
    "#### SOLUTION"
   ]
  },
  {
   "cell_type": "markdown",
   "metadata": {},
   "source": [
    "#### Program to create the tangent planes for the three scenarios and performing the necessary calculations:"
   ]
  },
  {
   "cell_type": "code",
   "execution_count": 32,
   "metadata": {},
   "outputs": [
    {
     "name": "stdout",
     "output_type": "stream",
     "text": [
      "Ground Level:\n",
      "Xmg = 2840216.8178408, Ymg = -3996165.7411012, Zmg = -2313187.4115831\n",
      "\n",
      "Ellipsoid:\n",
      "Xme = 2840216.8178408, Yme = -3996165.7411012, Zme = -2312230.2325831\n",
      "\n",
      "Below GOES-East Satellite:\n",
      "Xbs = 0.0000140, Ybs = -1100248.5477354, Zbs = -96264.1703965\n"
     ]
    }
   ],
   "source": [
    "from coords import TangentPlaneCartesianSystem\n",
    "\n",
    "# Create TangentPlaneCartesianSystem instances for the three tangent planes\n",
    "# 1. Create a tangent plane centered at the MCOM building at ground level\n",
    "tpcs1 = TangentPlaneCartesianSystem(33.581857, -101.880360, 957.179)\n",
    "\n",
    "# Transform ECEF coordinates (X, Y, Z) to the tangent plane at ground level\n",
    "Xmg, Ymg, Zmg = tpcs1.fromECEF(X, Y, Z)\n",
    "\n",
    "# 2. Create a tangent plane centered at the MCOM building at the ellipsoid\n",
    "tpcs2 = TangentPlaneCartesianSystem(33.581857, -101.880360, 0)\n",
    "\n",
    "# Transform ECEF coordinates (X, Y, Z) to the tangent plane at the ellipsoid\n",
    "Xme, Yme, Zme = tpcs2.fromECEF(X, Y, Z)\n",
    "\n",
    "# 3. Create a tangent plane directly below the GOES-East satellite\n",
    "tpcs3 = TangentPlaneCartesianSystem(0.0, -75.0, 0.0)\n",
    "\n",
    "# Transform ECEF coordinates (X, Y, Z) to the tangent plane directly below the satellite\n",
    "Xbs, Ybs, Zbs = tpcs3.fromECEF(X, Y, Z)\n",
    "\n",
    "# Output the transformed coordinates for the 6th index only (to save space)\n",
    "print(\"Ground Level:\")\n",
    "print(f\"Xmg = {Xmg[6]:.7f}, Ymg = {Ymg[6]:.7f}, Zmg = {Zmg[6]:.7f}\")\n",
    "\n",
    "print(\"\\nEllipsoid:\")\n",
    "print(f\"Xme = {Xme[6]:.7f}, Yme = {Yme[6]:.7f}, Zme = {Zme[6]:.7f}\")\n",
    "\n",
    "print(\"\\nBelow GOES-East Satellite:\")\n",
    "print(f\"Xbs = {Xbs[6]:.7f}, Ybs = {Ybs[6]:.7f}, Zbs = {Zbs[6]:.7f}\")\n"
   ]
  },
  {
   "cell_type": "markdown",
   "metadata": {},
   "source": [
    "#### Answer to (a)\n",
    "- Use only the GOES-East tangent plane and the transformed geodetic dataset,to show that the WGS84 earth shape is not spherical. to prove that the Earth's surface is not flat\n"
   ]
  },
  {
   "cell_type": "code",
   "execution_count": 33,
   "metadata": {},
   "outputs": [
    {
     "name": "stdout",
     "output_type": "stream",
     "text": [
      "[-1.61344419e+06 -9.64919572e+02 -9.68982326e+04 -9.68982326e+04\n",
      "  0.00000000e+00 -9.62641704e+04 -9.62641704e+04]\n"
     ]
    }
   ],
   "source": [
    "# calculate the difference in z-coordinates between the transformed coordinates \n",
    "# in the GOES-East tangent plane (z_goes_east) and the original geodetic altitudes (alt)\n",
    "\n",
    "Z_difference = Zbs - alt   \n",
    "\n",
    "print(Z_difference)"
   ]
  },
  {
   "cell_type": "markdown",
   "metadata": {},
   "source": [
    "#### Note\n",
    "- `The key concept to understand here is that if the Earth were spherical, you would expect all these differences to be zero because the tangent plane coordinates would match the geodetic coordinates perfectly. However, since the printed differences are not zero, it indicates that the Earth's shape is not spherical. These differences reflect the irregularities in the Earth's shape that the WGS84 model accounts for.`"
   ]
  },
  {
   "cell_type": "markdown",
   "metadata": {},
   "source": [
    "### Answer to (b)\n",
    "- Rule of thumb, it is Approximately 111.32 kilometers per degree latitude.\n",
    "\n",
    " - -`This value represents the length of one degree of latitude on the Earth's surface.`"
   ]
  },
  {
   "cell_type": "markdown",
   "metadata": {},
   "source": [
    "### Answer to (c)\n",
    "\n",
    "**c.** Print out the tangent plane $(x,y,z)$ of the zeroth data point (it is a bit east of Lubbock). Explain why the differences in the coordinates of the two MCOM tangent planes make sense."
   ]
  },
  {
   "cell_type": "code",
   "execution_count": 34,
   "metadata": {},
   "outputs": [
    {
     "name": "stdout",
     "output_type": "stream",
     "text": [
      "Coordinates for the Zeroth Data Point (MCOM Building - Ground Level):\n",
      "x = 35343.7591263, y = -9014.2035517, z = -1061.3999035\n",
      "\n",
      "Coordinates for the Zeroth Data Point (MCOM Building - Ellipsoid Level):\n",
      "x = 35343.7591263, y = -9014.2035517, z = -104.2209035\n"
     ]
    }
   ],
   "source": [
    "print(\"Coordinates for the Zeroth Data Point (MCOM Building - Ground Level):\")\n",
    "print(f\"x = {Xmg[0]:.7f}, y = {Ymg[0]:.7f}, z = {Zmg[0]:.7f}\")\n",
    "\n",
    "print(\"\\nCoordinates for the Zeroth Data Point (MCOM Building - Ellipsoid Level):\")\n",
    "print(f\"x = {Xme[0]:.7f}, y = {Yme[0]:.7f}, z = {Zme[0]:.7f}\")\n"
   ]
  },
  {
   "cell_type": "code",
   "execution_count": 35,
   "metadata": {},
   "outputs": [
    {
     "name": "stdout",
     "output_type": "stream",
     "text": [
      "Ground Level:\n",
      "Xmg = 35343.7591263, Ymg = -9014.2035517, Zmg = -1061.3999035\n",
      "\n",
      "Ellipsoid:\n",
      "Xme = 35343.7591263, Yme = -9014.2035517, Zme = -104.2209035\n",
      "\n",
      "Below GOES-East Satellite:\n",
      "Xbs = -2375588.2019687, Ybs = 3500334.2879921, Zbs = -1613444.1923394\n"
     ]
    }
   ],
   "source": [
    "# Output the transformed coordinates (X, Y, Z) for the 0th index only\n",
    "\n",
    "print(\"Ground Level:\")\n",
    "print(f\"Xmg = {Xmg[0]:.7f}, Ymg = {Ymg[0]:.7f}, Zmg = {Zmg[0]:.7f}\")\n",
    "\n",
    "print(\"\\nEllipsoid:\")\n",
    "print(f\"Xme = {Xme[0]:.7f}, Yme = {Yme[0]:.7f}, Zme = {Zme[0]:.7f}\")\n",
    "\n",
    "print(\"\\nBelow GOES-East Satellite:\")\n",
    "print(f\"Xbs = {Xbs[0]:.7f}, Ybs = {Ybs[0]:.7f}, Zbs = {Zbs[0]:.7f}\")\n"
   ]
  },
  {
   "cell_type": "markdown",
   "metadata": {},
   "source": [
    "#### Explaining the differences in the coordinates of the two MCOM tangent planes:\n",
    "- `X and Y Coordinates`: The X and Y coordinates are nearly identical for both the MCOM Ground Plane and the MCOM Ellipsoid Plane. This is because the X and Y coordinates are essentially a local Cartesian representation and are determined based on the same tangent point (the MCOM building's location). Therefore, they should be very close, if not identical.\n",
    "\n",
    "- `Z Coordinate (Altitude)`: The primary difference lies in the Z coordinate (altitude), and here is why the differences make sense:\n",
    "\n",
    "Basically, the difference is in their altitudes\n",
    "- `MCOM Ground Plane (Zmg) represents the height above the ground level at the MCOM building. The altitude is much larger in magnitude (approximately -1061.40 meters) because it includes the elevation of the MCOM building above the reference ellipsoid and the altitude of the ground beneath it.`\n",
    "\n",
    "on the other hand,\n",
    "- `MCOM Ellipsoid Plane (Zme) represents the height above the reference ellipsoid, without considering the terrain or any structures like the MCOM building. The altitude is significantly smaller in magnitude (approximately -104.22 meters) because it only considers the elevation above the smooth, mathematical surface of the reference ellipsoid.`"
   ]
  },
  {
   "cell_type": "markdown",
   "metadata": {},
   "source": [
    "### Answer to (d)\n",
    "**d.** Imagine that there was no terrain, so that a radar located at MCOM was precisely on the WGS84 ellipsoid. If that radar were to scan toward the zeroth position at 0° elevation angle (assume no atmospheric refraction), how high above the ground would the beam be? Is this disance measured perpendicular to the ellipsoid or perpendicular to the tangent plane?\n"
   ]
  },
  {
   "cell_type": "code",
   "execution_count": 36,
   "metadata": {},
   "outputs": [
    {
     "name": "stdout",
     "output_type": "stream",
     "text": [
      "1612382.79243591 meters\n",
      "(And, the vertical distance is measured perpendicular to the tangent plane)\n"
     ]
    }
   ],
   "source": [
    "# Calculate the height above the ground when radar scans at 0° elevation angle\n",
    "# (MCOM Ground Plane to GOES-East Plane)\n",
    "height_above_ground = Zmg[0] - Zbs[0]\n",
    "\n",
    "print(f\"{height_above_ground} meters\\n(And, the vertical distance is measured perpendicular to the tangent plane)\")"
   ]
  },
  {
   "cell_type": "markdown",
   "metadata": {},
   "source": [
    "### Answer to (e)\n",
    "**e.** Transform your coordiantes back to ECEF from each tangent plane and show they're equal."
   ]
  },
  {
   "cell_type": "markdown",
   "metadata": {},
   "source": [
    "Transform the coordiantes back to ECEF from each tangent plane"
   ]
  },
  {
   "cell_type": "code",
   "execution_count": 37,
   "metadata": {},
   "outputs": [
    {
     "name": "stdout",
     "output_type": "stream",
     "text": [
      "Equality of Transformed Coordinates to Original ECEF:\n",
      "Ground Level: True\n",
      "Ellipsoid: True\n",
      "Below GOES-East Satellite: True\n"
     ]
    }
   ],
   "source": [
    "# Transform coordinates back to ECEF from each tangent plane\n",
    "Xmg_back, Ymg_back, Zmg_back = tpcs1.toECEF(Xmg, Ymg, Zmg)\n",
    "Xme_back, Yme_back, Zme_back = tpcs2.toECEF(Xme, Yme, Zme)\n",
    "Xbs_back, Ybs_back, Zbs_back = tpcs3.toECEF(Xbs, Ybs, Zbs)\n",
    "\n",
    "# Check if the transformed coordinates are equal to the original ECEF coordinates\n",
    "equal_mg = np.allclose(Xmg_back, X, atol=1e-7) and np.allclose(Ymg_back, Y, atol=1e-7) and np.allclose(Zmg_back, Z, atol=1e-7)\n",
    "equal_me = np.allclose(Xme_back, X, atol=1e-7) and np.allclose(Yme_back, Y, atol=1e-7) and np.allclose(Zme_back, Z, atol=1e-7)\n",
    "equal_bs = np.allclose(Xbs_back, X, atol=1e-7) and np.allclose(Ybs_back, Y, atol=1e-7) and np.allclose(Zbs_back, Z, atol=1e-7)\n",
    "\n",
    "# Print the results\n",
    "print(\"Equality of Transformed Coordinates to Original ECEF:\")\n",
    "print(\"Ground Level:\", equal_mg)\n",
    "print(\"Ellipsoid:\", equal_me)\n",
    "print(\"Below GOES-East Satellite:\", equal_bs)\n"
   ]
  },
  {
   "cell_type": "markdown",
   "metadata": {},
   "source": [
    "Now, let's show they're equal."
   ]
  },
  {
   "cell_type": "code",
   "execution_count": 38,
   "metadata": {},
   "outputs": [
    {
     "name": "stdout",
     "output_type": "stream",
     "text": [
      "Equality for Ground Level Transformation: False\n",
      "Ground Level Transformation:\n",
      "Point 1:\n",
      "Original ECEF: X=-1061448.7541804, Y=-5217187.3072313, Z=3500334.2880224\n",
      "Transformed:    Xmg=35343.7591263, Ymg=-9014.2035517, Zmg=-1061.3999035\n",
      "\n",
      "Point 2:\n",
      "Original ECEF: X=1650533.5883109, Y=-6159875.2111754, Z=110568.7748246\n",
      "Transformed:    Xmg=2883304.3718493, Ymg=-3034455.3427638, Zmg=-1572635.5172244\n",
      "\n",
      "Point 3:\n",
      "Original ECEF: X=555891.2675813, Y=-6353866.2631028, Z=0.0000000\n",
      "Transformed:    Xmg=1852046.4124347, Ymg=-3356221.9978347, Zmg=-1287902.2501921\n",
      "\n",
      "Point 4:\n",
      "Original ECEF: X=2695517.1720840, Y=-5780555.2298866, Z=0.0000000\n",
      "Transformed:    Xmg=3827813.8673874, Ymg=-2802257.5562509, Zmg=-2122258.8366927\n",
      "\n",
      "Point 5:\n",
      "Original ECEF: X=1650783.3278731, Y=-6160807.2519099, Z=0.0000000\n",
      "Transformed:    Xmg=2883740.6399621, Ymg=-3127045.8510170, Zmg=-1633077.1625323\n",
      "\n",
      "Point 6:\n",
      "Original ECEF: X=1625868.3272134, Y=-6067823.2035776, Z=1100248.5477354\n",
      "Transformed:    Xmg=2840216.8178120, Ymg=-2162939.4596040, Zmg=-1096031.3542089\n",
      "\n",
      "Point 7:\n",
      "Original ECEF: X=1625868.3272134, Y=-6067823.2035776, Z=-1100248.5477354\n",
      "Transformed:    Xmg=2840216.8178408, Ymg=-3996165.7411012, Zmg=-2313187.4115831\n",
      "\n",
      "Equality for Ellipsoid Transformation: False\n",
      "Ellipsoid Transformation:\n",
      "Point 1:\n",
      "Original ECEF: X=-1061448.7541804, Y=-5217187.3072313, Z=3500334.2880224\n",
      "Transformed:    Xme=35343.7591263, Yme=-9014.2035517, Zme=-104.2209035\n",
      "\n",
      "Point 2:\n",
      "Original ECEF: X=1650533.5883109, Y=-6159875.2111754, Z=110568.7748246\n",
      "Transformed:    Xme=2883304.3718493, Yme=-3034455.3427638, Zme=-1571678.3382244\n",
      "\n",
      "Point 3:\n",
      "Original ECEF: X=555891.2675813, Y=-6353866.2631028, Z=0.0000000\n",
      "Transformed:    Xme=1852046.4124347, Yme=-3356221.9978347, Zme=-1286945.0711921\n",
      "\n",
      "Point 4:\n",
      "Original ECEF: X=2695517.1720840, Y=-5780555.2298866, Z=0.0000000\n",
      "Transformed:    Xme=3827813.8673874, Yme=-2802257.5562509, Zme=-2121301.6576927\n",
      "\n",
      "Point 5:\n",
      "Original ECEF: X=1650783.3278731, Y=-6160807.2519099, Z=0.0000000\n",
      "Transformed:    Xme=2883740.6399621, Yme=-3127045.8510170, Zme=-1632119.9835323\n",
      "\n",
      "Point 6:\n",
      "Original ECEF: X=1625868.3272134, Y=-6067823.2035776, Z=1100248.5477354\n",
      "Transformed:    Xme=2840216.8178120, Yme=-2162939.4596039, Zme=-1095074.1752089\n",
      "\n",
      "Point 7:\n",
      "Original ECEF: X=1625868.3272134, Y=-6067823.2035776, Z=-1100248.5477354\n",
      "Transformed:    Xme=2840216.8178408, Yme=-3996165.7411012, Zme=-2312230.2325831\n",
      "\n",
      "Equality for Below GOES-East Satellite Transformation: False\n",
      "Below GOES-East Satellite Transformation:\n",
      "Point 1:\n",
      "Original ECEF: X=-1061448.7541804, Y=-5217187.3072313, Z=3500334.2880224\n",
      "Transformed:    Xbs=-2375588.2019687, Ybs=3500334.2879921, Zbs=-1613444.1923394\n",
      "\n",
      "Point 2:\n",
      "Original ECEF: X=1650533.5883109, Y=-6159875.2111754, Z=110568.7748246\n",
      "Transformed:    Xbs=-0.0000014, Ybs=110568.7748246, Zbs=-964.9195716\n",
      "\n",
      "Point 3:\n",
      "Original ECEF: X=555891.2675813, Y=-6353866.2631028, Z=0.0000000\n",
      "Transformed:    Xbs=-1107551.8669600, Ybs=-0.0000141, Zbs=-96898.2326257\n",
      "\n",
      "Point 4:\n",
      "Original ECEF: X=2695517.1720840, Y=-5780555.2298866, Z=0.0000000\n",
      "Transformed:    Xbs=1107551.8669600, Ybs=0.0000141, Zbs=-96898.2326262\n",
      "\n",
      "Point 5:\n",
      "Original ECEF: X=1650783.3278731, Y=-6160807.2519099, Z=0.0000000\n",
      "Transformed:    Xbs=0.0000000, Ybs=0.0000000, Zbs=0.0000000\n",
      "\n",
      "Point 6:\n",
      "Original ECEF: X=1625868.3272134, Y=-6067823.2035776, Z=1100248.5477354\n",
      "Transformed:    Xbs=-0.0000140, Ybs=1100248.5477354, Zbs=-96264.1703965\n",
      "\n",
      "Point 7:\n",
      "Original ECEF: X=1625868.3272134, Y=-6067823.2035776, Z=-1100248.5477354\n",
      "Transformed:    Xbs=0.0000140, Ybs=-1100248.5477354, Zbs=-96264.1703965\n",
      "\n"
     ]
    }
   ],
   "source": [
    "# Check equality for Ground Level transformation\n",
    "equal_mg = np.allclose([Xmg, Ymg, Zmg], [X, Y, Z], atol=1e-7)\n",
    "print(\"Equality for Ground Level Transformation:\", equal_mg)\n",
    "\n",
    "# Output the transformed coordinates and original ECEF coordinates for Ground Level\n",
    "print(\"Ground Level Transformation:\")\n",
    "for i in range(len(lat)):\n",
    "    print(f\"Point {i + 1}:\")\n",
    "    print(f\"Original ECEF: X={X[i]:.7f}, Y={Y[i]:.7f}, Z={Z[i]:.7f}\")\n",
    "    print(f\"Transformed:    Xmg={Xmg[i]:.7f}, Ymg={Ymg[i]:.7f}, Zmg={Zmg[i]:.7f}\")\n",
    "    print()  # Add an empty line for separation\n",
    "\n",
    "# Check equality for Ellipsoid transformation\n",
    "equal_me = np.allclose([Xme, Yme, Zme], [X, Y, Z], atol=1e-7)\n",
    "print(\"Equality for Ellipsoid Transformation:\", equal_me)\n",
    "\n",
    "# Output the transformed coordinates and original ECEF coordinates for Ellipsoid\n",
    "print(\"Ellipsoid Transformation:\")\n",
    "for i in range(len(lat)):\n",
    "    print(f\"Point {i + 1}:\")\n",
    "    print(f\"Original ECEF: X={X[i]:.7f}, Y={Y[i]:.7f}, Z={Z[i]:.7f}\")\n",
    "    print(f\"Transformed:    Xme={Xme[i]:.7f}, Yme={Yme[i]:.7f}, Zme={Zme[i]:.7f}\")\n",
    "    print()  # Add an empty line for separation\n",
    "\n",
    "# Check equality for Below GOES-East Satellite transformation\n",
    "equal_bs = np.allclose([Xbs, Ybs, Zbs], [X, Y, Z], atol=1e-7)\n",
    "print(\"Equality for Below GOES-East Satellite Transformation:\", equal_bs)\n",
    "\n",
    "# Output the transformed coordinates and original ECEF coordinates for Below GOES-East Satellite\n",
    "print(\"Below GOES-East Satellite Transformation:\")\n",
    "for i in range(len(lat)):\n",
    "    print(f\"Point {i + 1}:\")\n",
    "    print(f\"Original ECEF: X={X[i]:.7f}, Y={Y[i]:.7f}, Z={Z[i]:.7f}\")\n",
    "    print(f\"Transformed:    Xbs={Xbs[i]:.7f}, Ybs={Ybs[i]:.7f}, Zbs={Zbs[i]:.7f}\")\n",
    "    print()  # Add an empty line for separation\n"
   ]
  },
  {
   "cell_type": "markdown",
   "metadata": {},
   "source": [
    "**Question 3** Use the `GeostationaryFixedGridSystem` to define two more coordiante transformations for the GOES-East and GOES-West locations at -75.0 and -135.0 degrees longitude.\n",
    "\n",
    "Use `GeostationaryFixedGridSystem?` in the notebook to learn about the arguments accepted by the projection class.\n",
    "\n",
    "Convert the dataset to fixed grid coordinates.\n",
    "\n",
    "For more on fixed grid coordiantes, you can read the [GOES-R L1b product users' guide](https://www.goes-r.gov/resources/docs.html) and [my own description of GOES fixed grid coordiantes](https://github.com/deeplycloudy/glmtools/blob/master/docs/fixedgridguide.md), a.k.a. [the geostationary projection](https://proj.org/operations/projections/geos.html).\n",
    "\n"
   ]
  },
  {
   "cell_type": "code",
   "execution_count": 50,
   "metadata": {},
   "outputs": [
    {
     "name": "stdout",
     "output_type": "stream",
     "text": [
      "Fixed Grid Coordinates for GOES-East:\n",
      "Data Point 1: (inf, inf, inf)\n",
      "Data Point 2: (inf, inf, inf)\n",
      "Data Point 3: (inf, inf, inf)\n",
      "Data Point 4: (inf, inf, inf)\n",
      "Data Point 5: (inf, inf, inf)\n",
      "Data Point 6: (inf, inf, inf)\n",
      "Data Point 7: (inf, inf, inf)\n",
      "\n",
      "Fixed Grid Coordinates for GOES-West:\n",
      "Data Point 1: (inf, inf, inf)\n",
      "Data Point 2: (inf, inf, inf)\n",
      "Data Point 3: (inf, inf, inf)\n",
      "Data Point 4: (inf, inf, inf)\n",
      "Data Point 5: (inf, inf, inf)\n",
      "Data Point 6: (inf, inf, inf)\n",
      "Data Point 7: (inf, inf, inf)\n"
     ]
    }
   ],
   "source": [
    "from coords import GeostationaryFixedGridSystem\n",
    "\n",
    "# Define the dataset as provided by Dr. Eric\n",
    "lat = np.array([33.5, 1.0, 0.0, 0.0, 0.0, 10.0, -10.0])\n",
    "lon = np.array([-101.5, -75.0, -85.0, -65.0, -75.0, -75.0, -75.0])\n",
    "alt = np.zeros_like(lat)  # Assuming altitudes are all zero for this example\n",
    "\n",
    "# Define GeostationaryFixedGridSystem instances for GOES-East and GOES-West\n",
    "goes_east_coords = GeostationaryFixedGridSystem(subsat_lat=0.0, subsat_lon=-75.0)\n",
    "goes_west_coords = GeostationaryFixedGridSystem(subsat_lat=0.0, subsat_lon=-135.0)\n",
    "\n",
    "# Initialize lists to store fixed grid coordinates\n",
    "fixed_grid_coordinates_east = []\n",
    "fixed_grid_coordinates_west = []\n",
    "\n",
    "# Convert the dataset to fixed grid coordinates for both locations\n",
    "for i in range(len(lat)):\n",
    "    latitude = lat[i]\n",
    "    longitude = lon[i]\n",
    "    altitude = alt[i]\n",
    "    \n",
    "    # Convert to ECEF coordinates\n",
    "    ecef_coordinates_east = goes_east_coords.toECEF(latitude, longitude, altitude)\n",
    "    ecef_coordinates_west = goes_west_coords.toECEF(latitude, longitude, altitude)\n",
    "    \n",
    "    # Convert to fixed grid coordinates\n",
    "    fixed_grid_coordinates_east.append(goes_east_coords.fromECEF(latitude, longitude, altitude))\n",
    "    fixed_grid_coordinates_west.append(goes_west_coords.fromECEF(latitude, longitude, altitude))\n",
    "\n",
    "# Print the fixed grid coordinates for each location\n",
    "print(\"Fixed Grid Coordinates for GOES-East:\")\n",
    "for i, coordinates in enumerate(fixed_grid_coordinates_east):\n",
    "    print(f\"Data Point {i+1}: {coordinates}\")\n",
    "\n",
    "print(\"\\nFixed Grid Coordinates for GOES-West:\")\n",
    "for i, coordinates in enumerate(fixed_grid_coordinates_west):\n",
    "    print(f\"Data Point {i+1}: {coordinates}\")\n"
   ]
  },
  {
   "cell_type": "markdown",
   "metadata": {},
   "source": [
    "**Question 4.** Make a plot of the east and north coordinate data from the lon/lat, 3 tangent plane, and two GOES fixed grid projections, for a total of 6 plots.\n",
    "\n",
    "Transform and plot three more locations (your hometown, your undergraduate institution's location, and the farthest you've been from home).\n",
    "\n",
    "Does everything make sense? If not, what do you observe? Offer a plausible explanation for what might have happened.\n",
    "\n",
    "Label the coordinates with the altitude of the point in that coordinate reference system."
   ]
  },
  {
   "cell_type": "code",
   "execution_count": 43,
   "metadata": {},
   "outputs": [
    {
     "data": {
      "image/png": "[encoded data removed]",
      "text/plain": [
       "<Figure size 700x500 with 1 Axes>"
      ]
     },
     "metadata": {},
     "output_type": "display_data"
    }
   ],
   "source": [
    "import numpy as np\n",
    "import matplotlib.pyplot as plt\n",
    "\n",
    "# Define the dataset as provided by Dr. Eric\n",
    "lat = np.array([33.5, 1.0, 0.0, 0.0, 0.0, 10.0, -10.0])\n",
    "lon = np.array([-101.5, -75.0, -85.0, -65.0, -75.0, -75.0, -75.0])\n",
    "\n",
    "# Create a figure with subplots\n",
    "n_rows, n_cols = 1, 1\n",
    "fig, axes = plt.subplots(n_rows, n_cols, figsize=(7, 5))\n",
    "\n",
    "# Plot east (longitude) vs. north (latitude) using the Geographic Coordinate System\n",
    "axes.plot(lon, lat, marker='o', markersize=5, label='Locations', linestyle='none')\n",
    "\n",
    "# Set axis labels and title\n",
    "axes.set_xlabel('Longitude')\n",
    "axes.set_ylabel('Latitude')\n",
    "axes.set_title('Geographic Coordinate System (WGS84)')\n",
    "\n",
    "# Add labels for the locations above the points\n",
    "for i in range(len(lat)):\n",
    "    axes.text(lon[i], lat[i], f'Loc {i+1} ({lon[i]:.2f}, {lat[i]:.2f})', ha='center', va='bottom')\n",
    "\n",
    "# Add a legend\n",
    "axes.legend()\n",
    "\n",
    "# Show the plot\n",
    "plt.grid()\n",
    "plt.tight_layout()\n",
    "plt.show()\n"
   ]
  },
  {
   "cell_type": "code",
   "execution_count": 44,
   "metadata": {},
   "outputs": [
    {
     "data": {
      "image/png": "[encoded data removed]",
      "text/plain": [
       "<Figure size 700x500 with 1 Axes>"
      ]
     },
     "metadata": {},
     "output_type": "display_data"
    }
   ],
   "source": [
    "import numpy as np\n",
    "import matplotlib.pyplot as plt\n",
    "from coords import GeographicSystem\n",
    "\n",
    "# Your locations\n",
    "hometown_lon, hometown_lat, hometown_alt = 4.58, 8.48, 135\n",
    "institution_lon, institution_lat, institution_alt = 5.1461, 7.2972, 204\n",
    "farthest_loc_lon, farthest_loc_lat, farthest_loc_alt = -101.884303, 33.593461, 380\n",
    "\n",
    "# Create a figure with subplots\n",
    "n_rows, n_cols = 1, 1\n",
    "fig, axes = plt.subplots(n_rows, n_cols, figsize=(7, 5))\n",
    "\n",
    "# Plot east (longitude) vs. north (latitude) using the Geographic Coordinate System\n",
    "axes.plot(hometown_lon, hometown_lat, marker='o', markersize=10, label='Hometown', linestyle='none')\n",
    "axes.plot(institution_lon, institution_lat, marker='o', markersize=10, label='Institution', linestyle='none')\n",
    "axes.plot(farthest_loc_lon, farthest_loc_lat, marker='o', markersize=10, label='Farthest Location', linestyle='none')\n",
    "\n",
    "# Set axis labels and title\n",
    "axes.set_xlabel('Longitude')\n",
    "axes.set_ylabel('Latitude')\n",
    "axes.set_title('Geographic Coordinate System (WGS84)')\n",
    "\n",
    "# Add labels for your locations above the points\n",
    "axes.text(hometown_lon, hometown_lat, f'Hometown ({hometown_lon:.2f}, {hometown_lat:.2f})', ha='center', va='bottom')\n",
    "axes.text(institution_lon, institution_lat, f'Institution ({institution_lon:.2f}, {institution_lat:.2f})', ha='center', va='bottom')\n",
    "axes.text(farthest_loc_lon, farthest_loc_lat, f'Farthest Location ({farthest_loc_lon:.2f}, {farthest_loc_lat:.2f})', ha='center', va='bottom')\n",
    "\n",
    "# Add a legend\n",
    "axes.legend()\n",
    "\n",
    "# Show the plot\n",
    "plt.grid()\n",
    "plt.tight_layout()\n",
    "plt.show()\n"
   ]
  },
  {
   "cell_type": "code",
   "execution_count": 45,
   "metadata": {},
   "outputs": [
    {
     "name": "stdout",
     "output_type": "stream",
     "text": [
      "Transformed Coordinates for Hometown:\n",
      "X_hometown: -5037724.796317706\n",
      "Y_hometown: 3396168.3455008175\n",
      "Z_hometown: -10814896.09263352\n",
      "\n",
      "Transformed Coordinates for Institution:\n",
      "X_institution: -4989180.056644076\n",
      "Y_institution: 3309297.769492207\n",
      "Z_institution: -10933249.277922042\n",
      "\n",
      "Transformed Coordinates for Farthest Location:\n",
      "X_farthest_loc: -3260248.1573644835\n",
      "Y_farthest_loc: -1172081.9802215437\n",
      "Z_farthest_loc: 299495.60538943484\n"
     ]
    }
   ],
   "source": [
    "from coords import TangentPlaneCartesianSystem\n",
    "\n",
    "# Define your ECEF coordinates for the Statue of Liberty, New York City, USA\n",
    "X = -4470597.11  # ECEF X coordinate in meters\n",
    "Y = -5411987.84  # ECEF Y coordinate in meters\n",
    "Z = 2698567.93   # ECEF Z coordinate in meters\n",
    "\n",
    "# Your locations\n",
    "hometown_lon, hometown_lat, hometown_alt = 4.58, 8.48, 135\n",
    "institution_lon, institution_lat, institution_alt = 5.1461, 7.2972, 204\n",
    "farthest_loc_lon, farthest_loc_lat, farthest_loc_alt = -101.884303, 33.593461, 380\n",
    "\n",
    "# Create TangentPlaneCartesianSystem instances for the three tangent planes\n",
    "# 1. Create a tangent plane centered at your hometown at ground level\n",
    "tpcs1 = TangentPlaneCartesianSystem(hometown_lat, hometown_lon, hometown_alt)\n",
    "\n",
    "# Transform ECEF coordinates (X, Y, Z) to the tangent plane at ground level\n",
    "X_hometown, Y_hometown, Z_hometown = tpcs1.fromECEF(X, Y, Z)\n",
    "\n",
    "# 2. Create a tangent plane centered at your institution at ground level\n",
    "tpcs2 = TangentPlaneCartesianSystem(institution_lat, institution_lon, institution_alt)\n",
    "\n",
    "# Transform ECEF coordinates (X, Y, Z) to the tangent plane at ground level\n",
    "X_institution, Y_institution, Z_institution = tpcs2.fromECEF(X, Y, Z)\n",
    "\n",
    "# 3. Create a tangent plane centered at the farthest location at ground level\n",
    "tpcs3 = TangentPlaneCartesianSystem(farthest_loc_lat, farthest_loc_lon, farthest_loc_alt)\n",
    "\n",
    "# Transform ECEF coordinates (X, Y, Z) to the tangent plane at ground level\n",
    "X_farthest_loc, Y_farthest_loc, Z_farthest_loc = tpcs3.fromECEF(X, Y, Z)\n",
    "\n",
    "# Print the transformed coordinates\n",
    "print(\"Transformed Coordinates for Hometown:\")\n",
    "print(\"X_hometown:\", X_hometown)\n",
    "print(\"Y_hometown:\", Y_hometown)\n",
    "print(\"Z_hometown:\", Z_hometown)\n",
    "\n",
    "print(\"\\nTransformed Coordinates for Institution:\")\n",
    "print(\"X_institution:\", X_institution)\n",
    "print(\"Y_institution:\", Y_institution)\n",
    "print(\"Z_institution:\", Z_institution)\n",
    "\n",
    "print(\"\\nTransformed Coordinates for Farthest Location:\")\n",
    "print(\"X_farthest_loc:\", X_farthest_loc)\n",
    "print(\"Y_farthest_loc:\", Y_farthest_loc)\n",
    "print(\"Z_farthest_loc:\", Z_farthest_loc)\n"
   ]
  },
  {
   "cell_type": "code",
   "execution_count": 46,
   "metadata": {},
   "outputs": [
    {
     "data": {
      "image/png": "[encoded data removed]",
      "text/plain": [
       "<Figure size 640x480 with 1 Axes>"
      ]
     },
     "metadata": {},
     "output_type": "display_data"
    }
   ],
   "source": [
    "import numpy as np\n",
    "import matplotlib.pyplot as plt\n",
    "\n",
    "# Transformed Coordinates for Hometown\n",
    "X_hometown = -5037724.796317706\n",
    "Y_hometown = 3396168.3455008175\n",
    "Z_hometown = -10814896.09263352\n",
    "\n",
    "# Transformed Coordinates for Institution\n",
    "X_institution = -4989180.056644076\n",
    "Y_institution = 3309297.769492207\n",
    "Z_institution = -10933249.277922042\n",
    "\n",
    "# Transformed Coordinates for Farthest Location\n",
    "X_farthest_loc = -3260248.1573644835\n",
    "Y_farthest_loc = -1172081.9802215437\n",
    "Z_farthest_loc = 299495.60538943484\n",
    "\n",
    "# Create a 3D scatter plot\n",
    "fig = plt.figure()\n",
    "ax = fig.add_subplot(111, projection='3d')\n",
    "\n",
    "# Plot the coordinates\n",
    "ax.scatter(X_hometown, Y_hometown, Z_hometown, marker='o', s=100, label='Hometown')\n",
    "ax.scatter(X_institution, Y_institution, Z_institution, marker='o', s=100, label='Institution')\n",
    "ax.scatter(X_farthest_loc, Y_farthest_loc, Z_farthest_loc, marker='o', s=100, label='Farthest Location')\n",
    "\n",
    "# Set axis labels and title\n",
    "ax.set_xlabel('X Coordinate')\n",
    "ax.set_ylabel('Y Coordinate')\n",
    "ax.set_zlabel('Z Coordinate')\n",
    "ax.set_title('Transformed Coordinates')\n",
    "\n",
    "# Add a legend\n",
    "ax.legend()\n",
    "\n",
    "# Show the plot\n",
    "plt.show()\n"
   ]
  },
  {
   "cell_type": "code",
   "execution_count": 47,
   "metadata": {},
   "outputs": [
    {
     "ename": "SyntaxError",
     "evalue": "invalid syntax (184781739.py, line 2)",
     "output_type": "error",
     "traceback": [
      "\u001b[1;36m  Cell \u001b[1;32mIn[47], line 2\u001b[1;36m\u001b[0m\n\u001b[1;33m    institution_lon, institution _lat, institution_alt =  5.1461, 7.2972, 204\u001b[0m\n\u001b[1;37m                                                       ^\u001b[0m\n\u001b[1;31mSyntaxError\u001b[0m\u001b[1;31m:\u001b[0m invalid syntax\n"
     ]
    }
   ],
   "source": [
    "hometown_lon, hometown_lat, hometown_alt  =  4.58, 8.48, 135\n",
    "institution_lon, institution _lat, institution_alt =  5.1461, 7.2972, 204\n",
    "farthest_loc_lon, farthest_loc_lat, farthest_loc_alt = -101.884303, 33.593461, 380\n",
    "\n",
    "\n",
    "loc_lon = \n",
    "loc_lat = \n",
    "loc_alt = \n",
    "\n",
    "\n",
    "%matplotlib notebook\n",
    "import matplotlib.pyplot as plt\n",
    "n_rows, n_cols = 3, 2\n",
    "fig, axes = plt.subplots(n_rows, n_cols, figsize=(8,8))\n",
    "\n",
    "axes[0,0].plot\n",
    "axes[0,0].set_xlabel('Longitude')\n",
    "axes[0,0].set_ylabel('Latitude')\n",
    "axes[0,0].set_title('WGS84')\n",
    "axes[0,0].plot(lon, lat, marker='.', linestyle='none')\n",
    "axes[0,0].plot(loc_lon, loc_lat, marker='.', linestyle='none')\n",
    "for tlon, tlat, tlabel in zip(lon, lat, alt):\n",
    "    axes[0,0].text(tlon, tlat, tlabel)\n",
    "for tlon, tlat, tlabel in zip(loc_lon, loc_lat, loc_alt):\n",
    "    axes[0,0].text(tlon, tlat, tlabel)\n",
    "\n",
    "\n",
    "# Make the other five panels here\n",
    "    \n",
    "    \n",
    "fig.tight_layout()"
   ]
  },
  {
   "cell_type": "code",
   "execution_count": null,
   "metadata": {},
   "outputs": [],
   "source": [
    "# BONUS! Make a 3D plot of all locations. \n",
    "# Try to imagine the curved earth surface on which they reside.\n",
    "# This part is not graded, but might be useful to you.\n",
    "\n",
    "from mpl_toolkits.mplot3d import Axes3D\n",
    "fig = plt.figure(figsize=(8,8))\n",
    "ax = fig.add_subplot(111, projection='3d')\n",
    "\n",
    "ax.plot(X, Y, Z, marker='o', linestyle='none') # original locations\n",
    "ax.plot(locX, locY, locZ, marker='o', linestyle='none') # personal locations\n",
    "ax.set_xlabel('ECEF X (m)')\n",
    "ax.set_ylabel('ECEF Y (m)')\n",
    "ax.set_zlabel('ECEF Z (m)')\n",
    "# ax.set_aspect('equal')"
   ]
  },
  {
   "cell_type": "code",
   "execution_count": null,
   "metadata": {},
   "outputs": [],
   "source": []
  },
  {
   "cell_type": "markdown",
   "metadata": {},
   "source": [
    "**5.** Using the arrays you created in the previous assignment, create a `pcolormesh` plot of the data in geostationary coordinates from both the GOES East and GOES West positions. (15 pts.)"
   ]
  },
  {
   "cell_type": "code",
   "execution_count": 48,
   "metadata": {},
   "outputs": [
    {
     "name": "stdout",
     "output_type": "stream",
     "text": [
      "Coordinates for Grid Point 1:\n",
      "TPCS for GOES-East: Xge = [-3904413.3867303  -3510032.7486464  -3088938.64192983 -2644335.84699629\n",
      " -2179608.05957372 -1698292.13873473 -1204051.18926339], Yge = [2535907.86517332 2535907.86517835 2535907.86518371 2535907.86518938\n",
      " 2535907.8651953  2535907.86520144 2535907.86520773], Zge = [-2023597.01894878 -1699875.30953681 -1411757.9964009  -1161437.82626401\n",
      "  -950819.88676834  -781507.10760804  -654788.06126636]\n",
      "TPCS for GOES-West: Xgw = [1818935.55203583 2296477.09518511 2756541.06098926 3195626.08487427\n",
      " 3610390.4646816  3997677.59303935 4354539.98105033], Ygw = [2535907.8652231  2535907.8652231  2535907.86522311 2535907.86522311\n",
      " 2535907.86522312 2535907.86522313 2535907.86522313], Zgw = [ -819545.82971873  -999228.62635401 -1219848.16358642 -1479725.39352389\n",
      " -1776882.49352843 -2109057.91864067 -2473723.61330247]\n"
     ]
    }
   ],
   "source": [
    "# Import necessary modules\n",
    "from coords import GeographicSystem\n",
    "from coords import TangentPlaneCartesianSystem\n",
    "import numpy as np\n",
    "\n",
    "# Create a GeographicSystem object\n",
    "geo = GeographicSystem()\n",
    "\n",
    "# Define the longitude, latitude, and altitude of a point\n",
    "mcom_lon, mcom_lat = -101.8803718553, 33.5818617015\n",
    "mcom_alt = 957.179\n",
    "\n",
    "# Define the dimensions and increments for a grid\n",
    "nlon = 7                # Number of longitude values\n",
    "nlat = 5                # Number of latitude values\n",
    "dlon, dlat = 5.0, 5.0   # Increment\n",
    "\n",
    "# Create a sample data array using NumPy\n",
    "d = (np.arange(nlon * nlat) - (nlon * nlat / 2.0)) ** 2.0\n",
    "d.shape = (nlat, nlon)  # Reshaping\n",
    "\n",
    "# Compute longitude and latitude arrays using Dr. Eric's variable assignments of mcom\n",
    "lon = np.linspace(-dlon * (nlon - 1) / 2, dlon * (nlon - 1) / 2, nlon) + mcom_lon\n",
    "lat = np.linspace(-dlat * (nlat - 1) / 2, dlat * (nlat - 1) / 2, nlat) + mcom_lat\n",
    "\n",
    "# Use np.meshgrid to create 2D coordinate arrays from lat & lon\n",
    "lon_grid, lat_grid = np.meshgrid(lon, lat)\n",
    "\n",
    "# Create a 2D array 'alt' with the same shape as 'lon_grid' and 'lat_grid' filled with zeros\n",
    "alt_grid = np.zeros_like(lon_grid)\n",
    "\n",
    "# Create a list to store the results\n",
    "tpcs_results = []\n",
    "\n",
    "# Loop through each geographic coordinate and compute TPCS\n",
    "for lon_arr, lat_arr, alt_arr in zip(lon_grid, lat_grid, alt_grid):\n",
    "    # Perform the geodetic-to-ECEF conversion using the GeographicSystem object\n",
    "    X_g, Y_g, Z_g = geo.toECEF(lon_arr, lat_arr, alt_arr)\n",
    "\n",
    "    # Create a tangent plane for the GOES-East satellite\n",
    "    tpcs_ge = TangentPlaneCartesianSystem(0.0, -75.0, 0.0)\n",
    "\n",
    "    # Transform ECEF coordinates (X, Y, Z) to the tangent plane for GOES-East\n",
    "    Xge, Yge, Zge = tpcs_ge.fromECEF(X_g, Y_g, Z_g)\n",
    "\n",
    "    # Create a tangent plane for the GOES-West satellite\n",
    "    tpcs_gw = TangentPlaneCartesianSystem(0.0, -135.0, 0.0)\n",
    "\n",
    "    # Transform ECEF coordinates to the tangent plane for GOES-West\n",
    "    Xgw, Ygw, Zgw = tpcs_gw.fromECEF(X_g, Y_g, Z_g)\n",
    "    \n",
    "    # Append the results to the list\n",
    "    tpcs_results.append((Xge, Yge, Zge, Xgw, Ygw, Zgw))\n",
    "\n",
    "# Print or access the results for the 0th index\n",
    "if len(tpcs_results) > 0:\n",
    "    result = tpcs_results[0]\n",
    "    Xge, Yge, Zge, Xgw, Ygw, Zgw = result\n",
    "    print(\"Coordinates for Grid Point 1:\")\n",
    "    print(f\"TPCS for GOES-East: Xge = {Xge}, Yge = {Yge}, Zge = {Zge}\")\n",
    "    print(f\"TPCS for GOES-West: Xgw = {Xgw}, Ygw = {Ygw}, Zgw = {Zgw}\")\n",
    "else:\n",
    "    print(\"No results available for the 0th index.\")\n"
   ]
  },
  {
   "cell_type": "markdown",
   "metadata": {},
   "source": [
    "#### Let's plot with pcolormesh"
   ]
  },
  {
   "cell_type": "code",
   "execution_count": 49,
   "metadata": {},
   "outputs": [
    {
     "data": {
      "image/png": "[encoded data removed]",
      "text/plain": [
       "<Figure size 1200x600 with 4 Axes>"
      ]
     },
     "metadata": {},
     "output_type": "display_data"
    }
   ],
   "source": [
    "import matplotlib.pyplot as plt\n",
    "\n",
    "# Create subplots for GOES-East and GOES-West\n",
    "fig, (ax_ge, ax_gw) = plt.subplots(1, 2, figsize=(12, 6))\n",
    "\n",
    "# Plot the data for GOES-East\n",
    "pcolormesh_ge = ax_ge.pcolormesh(lon_grid, lat_grid, d, shading='auto')\n",
    "ax_ge.set_title('GOES-East Data')\n",
    "ax_ge.set_xlabel('Longitude')\n",
    "ax_ge.set_ylabel('Latitude')\n",
    "fig.colorbar(pcolormesh_ge, ax=ax_ge, label='Data Value')\n",
    "\n",
    "# Plot the data for GOES-West\n",
    "pcolormesh_gw = ax_gw.pcolormesh(lon_grid, lat_grid, d, shading='auto')\n",
    "ax_gw.set_title('GOES-West Data')\n",
    "ax_gw.set_xlabel('Longitude')\n",
    "ax_gw.set_ylabel('Latitude')\n",
    "fig.colorbar(pcolormesh_gw, ax=ax_gw, label='Data Value')\n",
    "\n",
    "# Adjust layout and display the plot\n",
    "plt.tight_layout()\n",
    "plt.show()\n"
   ]
  },
  {
   "cell_type": "markdown",
   "metadata": {},
   "source": [
    "**6.** One thing we didn't do in the previous assignment was plot in a \"traditional\" map projection. We'll do that now with the Azimuthal Equidistant and Gnomonic projections, centered on MCOM, as defined below. The MapProjection class has the same to/from ECEF methods, and coordinates returned are in meters relative to the center point. (15 pts.)\n",
    "\n",
    "If you're curious, you can peruse [the full list of projections](https://proj.org/operations/projections/index.html) to see how to define others.\n",
    "\n",
    "Create a plot of the same data in each map projection, and set the axis limits to +/- 1600 km. Do you notice any differences in the two projections?"
   ]
  },
  {
   "cell_type": "code",
   "execution_count": null,
   "metadata": {},
   "outputs": [],
   "source": [
    "aeqd = MapProjection(projection='aeqd', lon_0=mcom_lon, lat_0=mcom_lat)\n",
    "gnom = MapProjection(projection='gnom', lon_0=mcom_lon, lat_0=mcom_lat)\n",
    "\n"
   ]
  },
  {
   "cell_type": "code",
   "execution_count": null,
   "metadata": {},
   "outputs": [],
   "source": []
  },
  {
   "cell_type": "code",
   "execution_count": null,
   "metadata": {},
   "outputs": [],
   "source": []
  },
  {
   "cell_type": "code",
   "execution_count": null,
   "metadata": {},
   "outputs": [],
   "source": []
  }
 ],
 "metadata": {
  "kernelspec": {
   "display_name": "Python 3 (ipykernel)",
   "language": "python",
   "name": "python3"
  },
  "language_info": {
   "codemirror_mode": {
    "name": "ipython",
    "version": 3
   },
   "file_extension": ".py",
   "mimetype": "text/x-python",
   "name": "python",
   "nbconvert_exporter": "python",
   "pygments_lexer": "ipython3",
   "version": "3.9.7"
  }
 },
 "nbformat": 4,
 "nbformat_minor": 4
}
